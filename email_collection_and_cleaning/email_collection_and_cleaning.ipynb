{
 "cells": [
  {
   "cell_type": "code",
   "execution_count": 1,
   "metadata": {},
   "outputs": [],
   "source": [
    "import os\n",
    "import csv\n",
    "import base64\n",
    "import pandas as pd\n",
    "import time\n",
    "import re\n",
    "from googleapiclient.discovery import build\n",
    "from google.oauth2.credentials import Credentials\n",
    "from google_auth_oauthlib.flow import InstalledAppFlow\n",
    "from google.auth.transport.requests import Request\n"
   ]
  },
  {
   "cell_type": "markdown",
   "metadata": {},
   "source": [
    "# Scrape sent emails using Gmail API:"
   ]
  },
  {
   "cell_type": "code",
   "execution_count": null,
   "metadata": {},
   "outputs": [],
   "source": [
    "# NOTE: Need to save a token.json with access credentials before running this\n",
    "\n",
    "SCOPES = ['https://www.googleapis.com/auth/gmail.readonly']\n",
    "os.chdir('/Users/ianduke/Desktop/LLMs')\n",
    "\n",
    "def authenticate_gmail():\n",
    "    creds = None\n",
    "    # The file token.json stores the user's access and refresh tokens, and is\n",
    "    # created automatically when the authorization flow completes for the first time.\n",
    "    if os.path.exists('token.json'):\n",
    "        creds = Credentials.from_authorized_user_file('token.json', SCOPES)\n",
    "    # If there are no (valid) credentials available, let the user log in.\n",
    "    if not creds or not creds.valid:\n",
    "        if creds and creds.expired and creds.refresh_token:\n",
    "            creds.refresh(Request())\n",
    "        else:\n",
    "            flow = InstalledAppFlow.from_client_secrets_file(\n",
    "                'credentials.json', SCOPES)\n",
    "            creds = flow.run_local_server(port=0)\n",
    "        # Save the credentials for the next run\n",
    "        with open('token.json', 'w') as token:\n",
    "            token.write(creds.to_json())\n",
    "    return creds\n",
    "\n",
    "def get_email_content(message):\n",
    "    parts = []\n",
    "    if 'parts' in message['payload']:\n",
    "        for part in message['payload']['parts']:\n",
    "            if 'parts' in part:\n",
    "                parts.extend(part['parts'])\n",
    "            else:\n",
    "                parts.append(part)\n",
    "    else:\n",
    "        parts.append(message['payload'])\n",
    "\n",
    "    email_body = \"\"\n",
    "    for part in parts:\n",
    "        if part['mimeType'] in ['text/plain', 'text/html']:\n",
    "            data = part['body'].get('data')\n",
    "            if data:\n",
    "                decoded_data = base64.urlsafe_b64decode(data).decode('utf-8')\n",
    "                email_body += decoded_data\n",
    "\n",
    "    return email_body\n",
    "\n",
    "def get_sent_emails(service):\n",
    "    results = service.users().messages().list(userId='me', labelIds=['SENT']).execute()\n",
    "    messages = results.get('messages', [])\n",
    "    next_page_token = results.get('nextPageToken')\n",
    "\n",
    "    while next_page_token:\n",
    "        results = service.users().messages().list(userId='me', labelIds=['SENT'], pageToken=next_page_token).execute()\n",
    "        messages.extend(results.get('messages', []))\n",
    "        next_page_token = results.get('nextPageToken')\n",
    "\n",
    "    email_data = []\n",
    "\n",
    "    for message in messages:\n",
    "        msg = service.users().messages().get(userId='me', id=message['id']).execute()\n",
    "        payload = msg['payload']\n",
    "        headers = payload.get(\"headers\")\n",
    "        subject = \"\"\n",
    "        date = \"\"\n",
    "        to = \"\"\n",
    "\n",
    "        for header in headers:\n",
    "            name = header.get(\"name\")\n",
    "            if name == \"Subject\":\n",
    "                subject = header.get(\"value\")\n",
    "            if name == \"Date\":\n",
    "                date = header.get(\"value\")\n",
    "            if name == \"To\":\n",
    "                to = header.get(\"value\")\n",
    "\n",
    "        email_body = get_email_content(msg)\n",
    "\n",
    "        email_data.append([date, to, subject, email_body])\n",
    "\n",
    "        # To avoid hitting the API rate limit, add a short delay\n",
    "        time.sleep(0.1)\n",
    "\n",
    "    return email_data\n",
    "\n",
    "def save_to_csv(emails):\n",
    "    with open('sent_emails.csv', mode='w', newline='', encoding='utf-8') as file:\n",
    "        writer = csv.writer(file)\n",
    "        writer.writerow([\"Date\", \"To\", \"Subject\", \"Body\"])\n",
    "        writer.writerows(emails)\n",
    "\n",
    "def main():\n",
    "    creds = authenticate_gmail()\n",
    "    service = build('gmail', 'v1', credentials=creds)\n",
    "    emails = get_sent_emails(service)\n",
    "    save_to_csv(emails)\n",
    "\n",
    "if __name__ == '__main__':\n",
    "    main()"
   ]
  },
  {
   "cell_type": "markdown",
   "metadata": {},
   "source": [
    "# Clean:"
   ]
  },
  {
   "cell_type": "code",
   "execution_count": 4,
   "metadata": {},
   "outputs": [],
   "source": [
    "# remove rows where I say 'my name is Ian'\n",
    "ian_emails = ian_emails[~ian_emails['Body'].str.contains('name is Ian', case=False, na=False)]\n",
    "ian_emails = ian_emails.reset_index()"
   ]
  },
  {
   "cell_type": "code",
   "execution_count": null,
   "metadata": {},
   "outputs": [],
   "source": [
    "emails_copy = ian_emails.copy()\n",
    "for i in range(len(emails_copy)):\n",
    "    print(i)\n",
    "    text = str(emails_copy['Body'][i])\n",
    "    match = re.search(r'(.*?(?:,?\\s*Ian|-\\s*Ian|On\\s+\\w{3},\\s+\\w{3}\\s+\\d{1,2},\\s+\\d{4}))', text, re.DOTALL)\n",
    "    if match is not None and \"content=\" not in emails_copy['Body'][i]:\n",
    "        emails_copy['Body'][i] = match .group(1)\n",
    "    else:\n",
    "        emails_copy['Body'][i] = 'NONE'"
   ]
  },
  {
   "cell_type": "code",
   "execution_count": null,
   "metadata": {},
   "outputs": [],
   "source": [
    "emails_copy = emails_copy[emails_copy['Body'] != 'NONE'].reset_index(drop=True)"
   ]
  },
  {
   "cell_type": "code",
   "execution_count": null,
   "metadata": {},
   "outputs": [],
   "source": [
    "# Lets finally remove email dates from the body\n",
    "# Define the pattern to match\n",
    "pattern = r'On \\w{3}, \\w{3} \\d{2}, \\d{4}'\n",
    "\n",
    "# Function to replace the pattern in the text\n",
    "def replace_date_strings(text):\n",
    "    return re.sub(pattern, '', text)\n",
    "\n",
    "for i in range(len(emails_copy)):\n",
    "    emails_copy.loc[i, 'Body'] = replace_date_strings(str(emails_copy['Body'][i]))"
   ]
  },
  {
   "cell_type": "markdown",
   "metadata": {},
   "source": [
    "# Save to csv for future finetuning:"
   ]
  },
  {
   "cell_type": "code",
   "execution_count": null,
   "metadata": {},
   "outputs": [],
   "source": [
    "# save to a csv\n",
    "emails_copy.to_csv('sent_emails_usf_cleaned.csv')"
   ]
  }
 ],
 "metadata": {
  "kernelspec": {
   "display_name": "Python 3",
   "language": "python",
   "name": "python3"
  },
  "language_info": {
   "codemirror_mode": {
    "name": "ipython",
    "version": 3
   },
   "file_extension": ".py",
   "mimetype": "text/x-python",
   "name": "python",
   "nbconvert_exporter": "python",
   "pygments_lexer": "ipython3",
   "version": "3.9.6"
  }
 },
 "nbformat": 4,
 "nbformat_minor": 2
}
